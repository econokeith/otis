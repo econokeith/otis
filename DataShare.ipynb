{
 "cells": [
  {
   "cell_type": "code",
   "execution_count": 5,
   "id": "c80225a1-ffa4-470b-88ae-be6247d84942",
   "metadata": {},
   "outputs": [],
   "source": [
    "import numpy as np\n",
    "import multiprocessing as multi\n",
    "import ctypes"
   ]
  },
  {
   "cell_type": "code",
   "execution_count": null,
   "id": "4eaeb8d0-6626-489e-88ae-824a333116f4",
   "metadata": {},
   "outputs": [],
   "source": []
  },
  {
   "cell_type": "code",
   "execution_count": 30,
   "id": "842c7fd8-2836-4937-a1dd-fe03a300c05d",
   "metadata": {},
   "outputs": [],
   "source": [
    "class DataShare:\n",
    "    \n",
    "    _ctype_hash = {'uint8': ctypes.c_uint8, 'str': ctypes.c_wchar_p, 'd': ctypes.c_double}\n",
    "\n",
    "    def __init__(self):\n",
    "        \"\"\"\n",
    "        A shared data object for multiprocessing\n",
    "        has no data attributes upon instantiation.\n",
    "        \n",
    "        Add shared arrays and values as follows:\n",
    "        \n",
    "        shared_data = DataShare()\n",
    "        shared_data.add_array(array_name, c_type, dim)\n",
    "        shared_data.add_value(value_name, c_type, value)\n",
    "        \n",
    "        arrays are in the form of np.frombuffer arrays\n",
    "        and must be writen to using slicing i.e.\n",
    "        \n",
    "        shared_data.array_name[:] = some_np_array_of_the_same_size\n",
    "        \"\"\"\n",
    "        pass\n",
    "    #\n",
    "\n",
    "    def add_array(self, array_name, c_type, dim):\n",
    "        \n",
    "        if c_type in _ctype_hash.keys()\n",
    "            c_type = self._ctype_hash[c_type]\n",
    "            \n",
    "        l = np.product(dim)\n",
    "        \n",
    "        np_dtype = np.dtype(c_type).name\n",
    "        new_array = multi.Array(c_type, int(l)).get_obj()\n",
    "        new_array = np.frombuffer(new_array.get_obj(), dtype=np_dtype).reshape(dim)\n",
    "        \n",
    "        setattr(self, array_name, new_array)\n",
    "        \n",
    "    def add_value(self, value_name, c_type, value):\n",
    "        new_value = multi.Value(c_type, value)\n",
    "        \n",
    "        setattr(self, value_name, new_value)"
   ]
  },
  {
   "cell_type": "code",
   "execution_count": 31,
   "id": "73db6808-0a0c-4dec-9d91-3caa4ba3318e",
   "metadata": {},
   "outputs": [],
   "source": [
    "ctype_hash = {'uint8': ctypes.c_uint8, 'str': ctypes.c_wchar_p, 'd': ctypes.c_double}"
   ]
  },
  {
   "cell_type": "code",
   "execution_count": 45,
   "id": "0192d665-4a12-4983-878e-db63c74b47b5",
   "metadata": {},
   "outputs": [],
   "source": [
    "O = np.ones(20)"
   ]
  },
  {
   "cell_type": "code",
   "execution_count": 46,
   "id": "c68819eb-a9e0-42a7-983d-9d4324cf0f40",
   "metadata": {},
   "outputs": [
    {
     "data": {
      "text/plain": [
       "array([1., 1., 1., 1., 1., 1., 1., 1., 1., 1., 1., 1., 1., 1., 1., 1., 1.,\n",
       "       1., 1., 1.])"
      ]
     },
     "execution_count": 46,
     "metadata": {},
     "output_type": "execute_result"
    }
   ],
   "source": [
    "O.reshape(20)"
   ]
  },
  {
   "cell_type": "code",
   "execution_count": 38,
   "id": "dc496bb6-6397-47fa-8970-25db4c4f7678",
   "metadata": {},
   "outputs": [
    {
     "ename": "TypeError",
     "evalue": "bytes or integer address expected instead of str instance",
     "output_type": "error",
     "traceback": [
      "\u001b[0;31m---------------------------------------------------------------------------\u001b[0m",
      "\u001b[0;31mTypeError\u001b[0m                                 Traceback (most recent call last)",
      "Input \u001b[0;32mIn [38]\u001b[0m, in \u001b[0;36m<module>\u001b[0;34m\u001b[0m\n\u001b[0;32m----> 1\u001b[0m \u001b[43mmulti\u001b[49m\u001b[38;5;241;43m.\u001b[39;49m\u001b[43mValue\u001b[49m\u001b[43m(\u001b[49m\u001b[43mctypes\u001b[49m\u001b[38;5;241;43m.\u001b[39;49m\u001b[43mc_char_p\u001b[49m\u001b[43m,\u001b[49m\u001b[43m \u001b[49m\u001b[38;5;124;43m\"\u001b[39;49m\u001b[38;5;124;43mhello\u001b[39;49m\u001b[38;5;124;43m\"\u001b[39;49m\u001b[43m)\u001b[49m\n",
      "File \u001b[0;32m/usr/lib/python3.8/multiprocessing/context.py:135\u001b[0m, in \u001b[0;36mBaseContext.Value\u001b[0;34m(self, typecode_or_type, lock, *args)\u001b[0m\n\u001b[1;32m    133\u001b[0m \u001b[38;5;124;03m'''Returns a synchronized shared object'''\u001b[39;00m\n\u001b[1;32m    134\u001b[0m \u001b[38;5;28;01mfrom\u001b[39;00m \u001b[38;5;21;01m.\u001b[39;00m\u001b[38;5;21;01msharedctypes\u001b[39;00m \u001b[38;5;28;01mimport\u001b[39;00m Value\n\u001b[0;32m--> 135\u001b[0m \u001b[38;5;28;01mreturn\u001b[39;00m \u001b[43mValue\u001b[49m\u001b[43m(\u001b[49m\u001b[43mtypecode_or_type\u001b[49m\u001b[43m,\u001b[49m\u001b[43m \u001b[49m\u001b[38;5;241;43m*\u001b[39;49m\u001b[43margs\u001b[49m\u001b[43m,\u001b[49m\u001b[43m \u001b[49m\u001b[43mlock\u001b[49m\u001b[38;5;241;43m=\u001b[39;49m\u001b[43mlock\u001b[49m\u001b[43m,\u001b[49m\n\u001b[1;32m    136\u001b[0m \u001b[43m             \u001b[49m\u001b[43mctx\u001b[49m\u001b[38;5;241;43m=\u001b[39;49m\u001b[38;5;28;43mself\u001b[39;49m\u001b[38;5;241;43m.\u001b[39;49m\u001b[43mget_context\u001b[49m\u001b[43m(\u001b[49m\u001b[43m)\u001b[49m\u001b[43m)\u001b[49m\n",
      "File \u001b[0;32m/usr/lib/python3.8/multiprocessing/sharedctypes.py:74\u001b[0m, in \u001b[0;36mValue\u001b[0;34m(typecode_or_type, lock, ctx, *args)\u001b[0m\n\u001b[1;32m     70\u001b[0m \u001b[38;5;28;01mdef\u001b[39;00m \u001b[38;5;21mValue\u001b[39m(typecode_or_type, \u001b[38;5;241m*\u001b[39margs, lock\u001b[38;5;241m=\u001b[39m\u001b[38;5;28;01mTrue\u001b[39;00m, ctx\u001b[38;5;241m=\u001b[39m\u001b[38;5;28;01mNone\u001b[39;00m):\n\u001b[1;32m     71\u001b[0m     \u001b[38;5;124;03m'''\u001b[39;00m\n\u001b[1;32m     72\u001b[0m \u001b[38;5;124;03m    Return a synchronization wrapper for a Value\u001b[39;00m\n\u001b[1;32m     73\u001b[0m \u001b[38;5;124;03m    '''\u001b[39;00m\n\u001b[0;32m---> 74\u001b[0m     obj \u001b[38;5;241m=\u001b[39m \u001b[43mRawValue\u001b[49m\u001b[43m(\u001b[49m\u001b[43mtypecode_or_type\u001b[49m\u001b[43m,\u001b[49m\u001b[43m \u001b[49m\u001b[38;5;241;43m*\u001b[39;49m\u001b[43margs\u001b[49m\u001b[43m)\u001b[49m\n\u001b[1;32m     75\u001b[0m     \u001b[38;5;28;01mif\u001b[39;00m lock \u001b[38;5;129;01mis\u001b[39;00m \u001b[38;5;28;01mFalse\u001b[39;00m:\n\u001b[1;32m     76\u001b[0m         \u001b[38;5;28;01mreturn\u001b[39;00m obj\n",
      "File \u001b[0;32m/usr/lib/python3.8/multiprocessing/sharedctypes.py:51\u001b[0m, in \u001b[0;36mRawValue\u001b[0;34m(typecode_or_type, *args)\u001b[0m\n\u001b[1;32m     49\u001b[0m obj \u001b[38;5;241m=\u001b[39m _new_value(type_)\n\u001b[1;32m     50\u001b[0m ctypes\u001b[38;5;241m.\u001b[39mmemset(ctypes\u001b[38;5;241m.\u001b[39maddressof(obj), \u001b[38;5;241m0\u001b[39m, ctypes\u001b[38;5;241m.\u001b[39msizeof(obj))\n\u001b[0;32m---> 51\u001b[0m \u001b[43mobj\u001b[49m\u001b[38;5;241;43m.\u001b[39;49m\u001b[38;5;21;43m__init__\u001b[39;49m\u001b[43m(\u001b[49m\u001b[38;5;241;43m*\u001b[39;49m\u001b[43margs\u001b[49m\u001b[43m)\u001b[49m\n\u001b[1;32m     52\u001b[0m \u001b[38;5;28;01mreturn\u001b[39;00m obj\n",
      "\u001b[0;31mTypeError\u001b[0m: bytes or integer address expected instead of str instance"
     ]
    }
   ],
   "source": [
    "multi.Value(ctypes.c_char_p, \"hello\")"
   ]
  },
  {
   "cell_type": "code",
   "execution_count": 39,
   "id": "ac21f08e-aba5-492a-b4e2-3b6a3ff8666e",
   "metadata": {},
   "outputs": [
    {
     "data": {
      "text/plain": [
       "<SynchronizedArray wrapper for <multiprocessing.sharedctypes.c_wchar_p_Array_2 object at 0x7f7170b325c0>>"
      ]
     },
     "execution_count": 39,
     "metadata": {},
     "output_type": "execute_result"
    }
   ],
   "source": [
    "multi.Array(ctypes.c_wchar_p, [\"hello\", \"friend\"])"
   ]
  },
  {
   "cell_type": "code",
   "execution_count": 27,
   "id": "b4c6ef83-1b5c-4fb3-8ecd-4270ac3bf273",
   "metadata": {},
   "outputs": [],
   "source": [
    "bbox_multi_array = multi.Array(c_type, int(l))"
   ]
  },
  {
   "cell_type": "code",
   "execution_count": 20,
   "id": "7b8b053a-06c2-4b38-9a8d-d855b536972a",
   "metadata": {},
   "outputs": [
    {
     "ename": "TypeError",
     "evalue": "object of type 'numpy.int64' has no len()",
     "output_type": "error",
     "traceback": [
      "\u001b[0;31m---------------------------------------------------------------------------\u001b[0m",
      "\u001b[0;31mTypeError\u001b[0m                                 Traceback (most recent call last)",
      "Input \u001b[0;32mIn [20]\u001b[0m, in \u001b[0;36m<module>\u001b[0;34m\u001b[0m\n\u001b[0;32m----> 1\u001b[0m \u001b[43mmulti\u001b[49m\u001b[38;5;241;43m.\u001b[39;49m\u001b[43mArray\u001b[49m\u001b[43m(\u001b[49m\u001b[43mc_type\u001b[49m\u001b[43m,\u001b[49m\u001b[43m \u001b[49m\u001b[43ml\u001b[49m\u001b[43m)\u001b[49m\n",
      "File \u001b[0;32m/usr/lib/python3.8/multiprocessing/context.py:141\u001b[0m, in \u001b[0;36mBaseContext.Array\u001b[0;34m(self, typecode_or_type, size_or_initializer, lock)\u001b[0m\n\u001b[1;32m    139\u001b[0m \u001b[38;5;124;03m'''Returns a synchronized shared array'''\u001b[39;00m\n\u001b[1;32m    140\u001b[0m \u001b[38;5;28;01mfrom\u001b[39;00m \u001b[38;5;21;01m.\u001b[39;00m\u001b[38;5;21;01msharedctypes\u001b[39;00m \u001b[38;5;28;01mimport\u001b[39;00m Array\n\u001b[0;32m--> 141\u001b[0m \u001b[38;5;28;01mreturn\u001b[39;00m \u001b[43mArray\u001b[49m\u001b[43m(\u001b[49m\u001b[43mtypecode_or_type\u001b[49m\u001b[43m,\u001b[49m\u001b[43m \u001b[49m\u001b[43msize_or_initializer\u001b[49m\u001b[43m,\u001b[49m\u001b[43m \u001b[49m\u001b[43mlock\u001b[49m\u001b[38;5;241;43m=\u001b[39;49m\u001b[43mlock\u001b[49m\u001b[43m,\u001b[49m\n\u001b[1;32m    142\u001b[0m \u001b[43m             \u001b[49m\u001b[43mctx\u001b[49m\u001b[38;5;241;43m=\u001b[39;49m\u001b[38;5;28;43mself\u001b[39;49m\u001b[38;5;241;43m.\u001b[39;49m\u001b[43mget_context\u001b[49m\u001b[43m(\u001b[49m\u001b[43m)\u001b[49m\u001b[43m)\u001b[49m\n",
      "File \u001b[0;32m/usr/lib/python3.8/multiprocessing/sharedctypes.py:88\u001b[0m, in \u001b[0;36mArray\u001b[0;34m(typecode_or_type, size_or_initializer, lock, ctx)\u001b[0m\n\u001b[1;32m     84\u001b[0m \u001b[38;5;28;01mdef\u001b[39;00m \u001b[38;5;21mArray\u001b[39m(typecode_or_type, size_or_initializer, \u001b[38;5;241m*\u001b[39m, lock\u001b[38;5;241m=\u001b[39m\u001b[38;5;28;01mTrue\u001b[39;00m, ctx\u001b[38;5;241m=\u001b[39m\u001b[38;5;28;01mNone\u001b[39;00m):\n\u001b[1;32m     85\u001b[0m     \u001b[38;5;124;03m'''\u001b[39;00m\n\u001b[1;32m     86\u001b[0m \u001b[38;5;124;03m    Return a synchronization wrapper for a RawArray\u001b[39;00m\n\u001b[1;32m     87\u001b[0m \u001b[38;5;124;03m    '''\u001b[39;00m\n\u001b[0;32m---> 88\u001b[0m     obj \u001b[38;5;241m=\u001b[39m \u001b[43mRawArray\u001b[49m\u001b[43m(\u001b[49m\u001b[43mtypecode_or_type\u001b[49m\u001b[43m,\u001b[49m\u001b[43m \u001b[49m\u001b[43msize_or_initializer\u001b[49m\u001b[43m)\u001b[49m\n\u001b[1;32m     89\u001b[0m     \u001b[38;5;28;01mif\u001b[39;00m lock \u001b[38;5;129;01mis\u001b[39;00m \u001b[38;5;28;01mFalse\u001b[39;00m:\n\u001b[1;32m     90\u001b[0m         \u001b[38;5;28;01mreturn\u001b[39;00m obj\n",
      "File \u001b[0;32m/usr/lib/python3.8/multiprocessing/sharedctypes.py:65\u001b[0m, in \u001b[0;36mRawArray\u001b[0;34m(typecode_or_type, size_or_initializer)\u001b[0m\n\u001b[1;32m     63\u001b[0m     \u001b[38;5;28;01mreturn\u001b[39;00m obj\n\u001b[1;32m     64\u001b[0m \u001b[38;5;28;01melse\u001b[39;00m:\n\u001b[0;32m---> 65\u001b[0m     type_ \u001b[38;5;241m=\u001b[39m type_ \u001b[38;5;241m*\u001b[39m \u001b[38;5;28;43mlen\u001b[39;49m\u001b[43m(\u001b[49m\u001b[43msize_or_initializer\u001b[49m\u001b[43m)\u001b[49m\n\u001b[1;32m     66\u001b[0m     result \u001b[38;5;241m=\u001b[39m _new_value(type_)\n\u001b[1;32m     67\u001b[0m     result\u001b[38;5;241m.\u001b[39m\u001b[38;5;21m__init__\u001b[39m(\u001b[38;5;241m*\u001b[39msize_or_initializer)\n",
      "\u001b[0;31mTypeError\u001b[0m: object of type 'numpy.int64' has no len()"
     ]
    }
   ],
   "source": []
  },
  {
   "cell_type": "code",
   "execution_count": 10,
   "id": "b98ef68b-82dc-4600-8825-178f2c908d61",
   "metadata": {},
   "outputs": [
    {
     "data": {
      "text/plain": [
       "6"
      ]
     },
     "execution_count": 10,
     "metadata": {},
     "output_type": "execute_result"
    }
   ],
   "source": [
    "new_array = np.frombuffer(.get_obj(), dtype=np_dtype).reshape(dim)\n",
    "setattr(self, name, new_array)"
   ]
  },
  {
   "cell_type": "code",
   "execution_count": 50,
   "id": "eda0ffcb-2512-43c4-8f81-4bcc80bd1bad",
   "metadata": {},
   "outputs": [
    {
     "name": "stderr",
     "output_type": "stream",
     "text": [
      "usage: ipykernel_launcher.py [-h] --name NAME [--age AGE]\n",
      "ipykernel_launcher.py: error: the following arguments are required: --name\n"
     ]
    },
    {
     "ename": "SystemExit",
     "evalue": "2",
     "output_type": "error",
     "traceback": [
      "An exception has occurred, use %tb to see the full traceback.\n",
      "\u001b[0;31mSystemExit\u001b[0m\u001b[0;31m:\u001b[0m 2\n"
     ]
    },
    {
     "name": "stderr",
     "output_type": "stream",
     "text": [
      "/home/keith/.local/lib/python3.8/site-packages/IPython/core/interactiveshell.py:3259: UserWarning: To exit: use 'exit', 'quit', or Ctrl-D.\n",
      "  warn(\"To exit: use 'exit', 'quit', or Ctrl-D.\", stacklevel=1)\n"
     ]
    }
   ],
   "source": [
    "import argparse\n",
    "parser = argparse.ArgumentParser()\n",
    "parser.add_argument('--name', type=str, required=True)\n",
    "parser.add_argument('--age', type=int)\n",
    "args = parser.parse_args()\n",
    "if args.age:\n",
    "  print(args.name, 'is', args.age, 'years old.')\n",
    "else:\n",
    "  print('Hello,', args.name + '!')"
   ]
  },
  {
   "cell_type": "code",
   "execution_count": null,
   "id": "f9288319-2c58-46e8-817a-6b554da6bc02",
   "metadata": {},
   "outputs": [],
   "source": []
  }
 ],
 "metadata": {
  "kernelspec": {
   "display_name": "Python 3 (ipykernel)",
   "language": "python",
   "name": "python3"
  },
  "language_info": {
   "codemirror_mode": {
    "name": "ipython",
    "version": 3
   },
   "file_extension": ".py",
   "mimetype": "text/x-python",
   "name": "python",
   "nbconvert_exporter": "python",
   "pygments_lexer": "ipython3",
   "version": "3.8.10"
  }
 },
 "nbformat": 4,
 "nbformat_minor": 5
}
