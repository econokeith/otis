{
 "cells": [
  {
   "cell_type": "code",
   "execution_count": 7,
   "id": "9948ccc7-209f-4569-a663-b73f7d161775",
   "metadata": {},
   "outputs": [],
   "source": [
    "import cv2\n",
    "import numpy as np\n",
    "import time\n",
    "import overlay\n",
    "from queue import Queue\n",
    "\n",
    "# class NoneIter:\n",
    "    \n",
    "#     def __init__(self, iterable):\n",
    "#         self.iterable = iterable\n",
    "    \n",
    "#     def __iter__(self):\n",
    "#         yield from self.iterable\n",
    "#         yield None"
   ]
  },
  {
   "cell_type": "code",
   "execution_count": 2,
   "id": "d1afcb39-d1aa-4145-b217-aa53a076c657",
   "metadata": {},
   "outputs": [
    {
     "data": {
      "text/plain": [
       "0.07960835957192852"
      ]
     },
     "execution_count": 2,
     "metadata": {},
     "output_type": "execute_result"
    }
   ],
   "source": [
    "np.random.rand()/10 + .05"
   ]
  },
  {
   "cell_type": "code",
   "execution_count": null,
   "id": "a93022b0-f76c-48d2-8373-1e0ed5cb894e",
   "metadata": {},
   "outputs": [],
   "source": []
  },
  {
   "cell_type": "code",
   "execution_count": null,
   "id": "687d7707-6f55-4813-a4b2-f899de0d64d1",
   "metadata": {},
   "outputs": [],
   "source": [
    "\n",
    "        "
   ]
  },
  {
   "cell_type": "code",
   "execution_count": 3,
   "id": "8ffd2ffa-ede9-44a3-8927-933fa3b82363",
   "metadata": {},
   "outputs": [],
   "source": [
    "fps_max = 30\n",
    "wait = int(1000/fps_max)\n",
    "writer = overlay.TextPutter(fscale=2, ltype=2)\n",
    "fps = 100\n",
    "i = 0\n",
    "# cam = cv2.VideoCapture(0)\n",
    "frame = np.empty((720, 1280, 3),dtype='uint8')\n",
    "wtick = 100\n",
    "blinktime = .53\n",
    "write_speed_mu = .1\n",
    "write_speed = write_speed_mu\n",
    "will_print = True\n",
    "MSGS = [\"Hello, it is very nice to meet you\", \"it get's lonely in here\", \"I wish I had more friends\", \"Maybe we could be FRIENDS\"]\n",
    "MSGS = \"Hello, it is very nice to meet you\"\n",
    "msg = ''\n",
    "j = 0\n",
    "i=0\n",
    "while True: \n",
    "    tick = time.time()\n",
    "#     ok, frame = cam.read()q\n",
    "#     if ok is False:\n",
    "#         break\n",
    "    frame[:, :, :] = i\n",
    "    \n",
    "    #cv2.rectangle(frame, (0,0), (1279,719),  (i, i, i), 2)\n",
    "    if i < 255:\n",
    "        i+=1\n",
    "    else:\n",
    "        i=0\n",
    "    \n",
    "    \n",
    "    writer.typeLine(frame, MSGS, (10, 360), loop=True)\n",
    "\n",
    "\n",
    "    writer.putText(frame, str(fps), (10, 300), (0, 255, 0))\n",
    "\n",
    "    cv2.imshow('test', frame)\n",
    "    if cv2.waitKey(wait)& 0xFF in [ord('q'), ord('Q'), 27]:\n",
    "        break\n",
    "    fps = int(1/(time.time()-tick))\n",
    "    \n",
    "#cam.release()\n",
    "cv2.destroyAllWindows() "
   ]
  },
  {
   "cell_type": "code",
   "execution_count": null,
   "id": "b2b40d42-2b28-4047-b270-45d8beff1ae5",
   "metadata": {},
   "outputs": [],
   "source": []
  },
  {
   "cell_type": "code",
   "execution_count": null,
   "id": "31b53142-c1c5-459d-8ef6-edfd87980c86",
   "metadata": {},
   "outputs": [],
   "source": []
  },
  {
   "cell_type": "code",
   "execution_count": null,
   "id": "85c9a0e9-bd7e-4ecb-8add-79989d73b6a8",
   "metadata": {},
   "outputs": [],
   "source": []
  },
  {
   "cell_type": "code",
   "execution_count": null,
   "id": "98c29c43-4460-4992-a7c6-a63ef394a273",
   "metadata": {},
   "outputs": [],
   "source": []
  },
  {
   "cell_type": "code",
   "execution_count": null,
   "id": "ad083531-78b8-4d85-b5eb-470e31c73b14",
   "metadata": {},
   "outputs": [],
   "source": []
  },
  {
   "cell_type": "code",
   "execution_count": null,
   "id": "f422a4a3-4526-497e-bddd-2707e033b20e",
   "metadata": {},
   "outputs": [],
   "source": []
  },
  {
   "cell_type": "code",
   "execution_count": null,
   "id": "2f58f503-f9f1-4845-8c81-adc69b0c8e63",
   "metadata": {},
   "outputs": [],
   "source": []
  },
  {
   "cell_type": "code",
   "execution_count": null,
   "id": "d4591b39-51b4-4723-8fc1-813f11ef53fe",
   "metadata": {},
   "outputs": [],
   "source": []
  },
  {
   "cell_type": "code",
   "execution_count": null,
   "id": "9383c82c-ee1c-40ad-b724-572f4da06f97",
   "metadata": {},
   "outputs": [],
   "source": []
  },
  {
   "cell_type": "code",
   "execution_count": 110,
   "id": "e70e7e16-2718-4e89-b79f-a8112960dd5d",
   "metadata": {},
   "outputs": [],
   "source": [
    "fps_max = 30\n",
    "wait = int(1000/fps_max)\n",
    "writer = overlay.TextPutter(fscale=2, ltype=2)\n",
    "fps = 100\n",
    "i = 0\n",
    "# cam = cv2.VideoCapture(0)\n",
    "frame = np.empty((720, 1280, 3),dtype='uint8')\n",
    "wtick = 100\n",
    "blinktime = .53\n",
    "write_speed_mu = .1\n",
    "write_speed = write_speed_mu\n",
    "will_print = True\n",
    "MSGS = [\"Hello, it is very nice to meet you\", \"it get's lonely in here\", \"I wish I had more friends\", \"Maybe we could be FRIENDS\"]\n",
    "MSGS = NoneIter(MSGS)\n",
    "msg = ''\n",
    "j = 0\n",
    "\n",
    "while True: \n",
    "    tick = time.time()\n",
    "#     ok, frame = cam.read()q\n",
    "#     if ok is False:\n",
    "#         break\n",
    "    frame[:, :, :] = i\n",
    "    \n",
    "    #cv2.rectangle(frame, (0,0), (1279,719),  (i, i, i), 2)\n",
    "    if i < 255:\n",
    "        i+=1\n",
    "    else:\n",
    "        i=0\n",
    "    \n",
    "    if time.time() - wtick >= write_speed:\n",
    "        will_print = not will_print\n",
    "        wtick = time.time()\n",
    "        if j < len(MSG):\n",
    "            msg += MSG[j]\n",
    "            j+=1\n",
    "            write_speed = np.random.rand()/10 + .05\n",
    "        else:\n",
    "            j = 0\n",
    "            msg = ''\n",
    "            write_speed = 1\n",
    "        \n",
    "    if True:\n",
    "        writer.putText(frame, msg , (10, 360), (0,0,255))\n",
    "        writer.putText(frame, str(fps), (10, 300), (0, 255, 0))\n",
    "\n",
    "    cv2.imshow('test', frame)\n",
    "    if cv2.waitKey(wait)& 0xFF in [ord('q'), ord('Q'), 27]:\n",
    "        break\n",
    "    fps = int(1/(time.time()-tick))\n",
    "    \n",
    "#cam.release()\n",
    "cv2.destroyAllWindows() "
   ]
  },
  {
   "cell_type": "code",
   "execution_count": null,
   "id": "0271ff1a-e77c-4899-bd60-4e6203699e1d",
   "metadata": {},
   "outputs": [],
   "source": [
    "class Blinker:\n",
    "\n",
    "    def __init__(self, period=1, duty_cycle = .5):\n",
    "        self.period = period\n",
    "        self.duty_cycle = .5\n",
    "        \n",
    "    def do_if_on(self):"
   ]
  },
  {
   "cell_type": "code",
   "execution_count": 17,
   "id": "e58c8ce7-f5f1-4489-bcd1-ce1ee400da2b",
   "metadata": {
    "collapsed": true,
    "jupyter": {
     "outputs_hidden": true
    },
    "tags": []
   },
   "outputs": [
    {
     "name": "stdout",
     "output_type": "stream",
     "text": [
      "10 : ---\n",
      "20 : ---\n",
      "30 : ---\n",
      "40 : ---\n",
      "50 : ---\n",
      "60 : ---\n",
      "70 : ---\n",
      "80 : ---\n",
      "90 : ---\n",
      "100 : +++\n",
      "110 : +++\n",
      "120 : +++\n",
      "130 : +++\n",
      "140 : +++\n",
      "150 : +++\n",
      "160 : +++\n",
      "170 : +++\n",
      "180 : +++\n",
      "190 : +++\n",
      "200 : ---\n",
      "210 : ---\n",
      "220 : ---\n",
      "231 : ---\n",
      "241 : ---\n",
      "251 : ---\n",
      "261 : ---\n",
      "271 : ---\n",
      "281 : ---\n",
      "291 : ---\n",
      "301 : +++\n",
      "311 : +++\n",
      "321 : +++\n",
      "331 : +++\n",
      "341 : +++\n",
      "351 : +++\n",
      "361 : +++\n",
      "371 : +++\n",
      "381 : +++\n",
      "391 : +++\n",
      "401 : ---\n",
      "411 : ---\n",
      "421 : ---\n",
      "432 : ---\n",
      "442 : ---\n",
      "452 : ---\n",
      "462 : ---\n",
      "472 : ---\n",
      "482 : ---\n",
      "492 : ---\n",
      "502 : +++\n",
      "512 : +++\n",
      "522 : +++\n",
      "532 : +++\n",
      "542 : +++\n",
      "552 : +++\n",
      "562 : +++\n",
      "572 : +++\n",
      "582 : +++\n",
      "592 : +++\n",
      "602 : ---\n",
      "612 : ---\n",
      "623 : ---\n",
      "633 : ---\n",
      "643 : ---\n",
      "653 : ---\n",
      "663 : ---\n",
      "673 : ---\n",
      "683 : ---\n",
      "693 : ---\n",
      "703 : +++\n",
      "713 : +++\n",
      "723 : +++\n",
      "733 : +++\n",
      "743 : +++\n",
      "753 : +++\n",
      "763 : +++\n",
      "773 : +++\n",
      "783 : +++\n",
      "793 : +++\n",
      "803 : ---\n",
      "813 : ---\n",
      "823 : ---\n",
      "834 : ---\n",
      "844 : ---\n",
      "854 : ---\n",
      "864 : ---\n",
      "874 : ---\n",
      "884 : ---\n",
      "894 : ---\n",
      "904 : +++\n",
      "914 : +++\n",
      "924 : +++\n",
      "934 : +++\n",
      "944 : +++\n",
      "954 : +++\n",
      "964 : +++\n",
      "974 : +++\n",
      "984 : +++\n",
      "994 : +++\n",
      "1004 : ---\n",
      "1014 : ---\n"
     ]
    }
   ],
   "source": [
    "tick = time.time()\n",
    "will_print = True\n",
    "start = tick\n",
    "i=0\n",
    "while True:\n",
    "    time.sleep(.1)\n",
    "    if time.time() - tick > 1:\n",
    "        will_print = not will_print\n",
    "        tick = time.time()\n",
    "        \n",
    "    if will_print:\n",
    "        print(f'{et} : ---')\n",
    "    else: \n",
    "        print(f'{et} : +++')\n",
    "    if i > 100:\n",
    "        break\n",
    "    "
   ]
  },
  {
   "cell_type": "code",
   "execution_count": 8,
   "id": "362ac33f-a0c3-4114-ae48-c2e1e17574de",
   "metadata": {},
   "outputs": [],
   "source": [
    "c = c ^1"
   ]
  },
  {
   "cell_type": "code",
   "execution_count": 21,
   "id": "f43053e0-2f21-43fd-adcc-c84f35e96a8a",
   "metadata": {},
   "outputs": [],
   "source": [
    "msg = \"THIS IS A TEST\""
   ]
  },
  {
   "cell_type": "code",
   "execution_count": 22,
   "id": "35f6a4c8-707f-402c-a2f8-59c057ad2606",
   "metadata": {},
   "outputs": [
    {
     "data": {
      "text/plain": [
       "14"
      ]
     },
     "execution_count": 22,
     "metadata": {},
     "output_type": "execute_result"
    }
   ],
   "source": [
    "len(msg)"
   ]
  },
  {
   "cell_type": "code",
   "execution_count": 13,
   "id": "5f31bbb4-5647-4d07-862d-fc4111ea093b",
   "metadata": {},
   "outputs": [
    {
     "data": {
      "text/plain": [
       "True"
      ]
     },
     "execution_count": 13,
     "metadata": {},
     "output_type": "execute_result"
    }
   ],
   "source": [
    "not f"
   ]
  },
  {
   "cell_type": "code",
   "execution_count": 58,
   "id": "ae5ae4d5-33f3-4e2a-8b11-ab263d95f859",
   "metadata": {},
   "outputs": [],
   "source": [
    "msg_iter = iter([\"Hello, it is very nice to meet you\", \"it get's lonely in here\", \"I wish I had more friends\", \"Maybe we could be FRIENDS\"])"
   ]
  },
  {
   "cell_type": "code",
   "execution_count": 61,
   "id": "c970ad8e-aa6b-47b6-91b2-765baf64b764",
   "metadata": {},
   "outputs": [
    {
     "ename": "AttributeError",
     "evalue": "'list_iterator' object has no attribute 'get'",
     "output_type": "error",
     "traceback": [
      "\u001b[0;31m---------------------------------------------------------------------------\u001b[0m",
      "\u001b[0;31mAttributeError\u001b[0m                            Traceback (most recent call last)",
      "Input \u001b[0;32mIn [61]\u001b[0m, in \u001b[0;36m<module>\u001b[0;34m\u001b[0m\n\u001b[0;32m----> 1\u001b[0m \u001b[43mmsg_iter\u001b[49m\u001b[38;5;241;43m.\u001b[39;49m\u001b[43mget\u001b[49m()\n",
      "\u001b[0;31mAttributeError\u001b[0m: 'list_iterator' object has no attribute 'get'"
     ]
    }
   ],
   "source": [
    "msg_iter.get()"
   ]
  },
  {
   "cell_type": "code",
   "execution_count": 69,
   "id": "f3eec59e-8f1f-422c-ae50-69cc542a68ee",
   "metadata": {},
   "outputs": [],
   "source": [
    "ff =iter([1,2,3,4])"
   ]
  },
  {
   "cell_type": "code",
   "execution_count": 73,
   "id": "68a0e051-9327-4bb2-b20a-c49373581d30",
   "metadata": {},
   "outputs": [
    {
     "data": {
      "text/plain": [
       "4"
      ]
     },
     "execution_count": 73,
     "metadata": {},
     "output_type": "execute_result"
    }
   ],
   "source": [
    "next(ff)"
   ]
  },
  {
   "cell_type": "code",
   "execution_count": 68,
   "id": "a12e38be-1f52-4510-8663-fd512724fd36",
   "metadata": {},
   "outputs": [
    {
     "ename": "TypeError",
     "evalue": "object of type 'list_iterator' has no len()",
     "output_type": "error",
     "traceback": [
      "\u001b[0;31m---------------------------------------------------------------------------\u001b[0m",
      "\u001b[0;31mTypeError\u001b[0m                                 Traceback (most recent call last)",
      "Input \u001b[0;32mIn [68]\u001b[0m, in \u001b[0;36m<module>\u001b[0;34m\u001b[0m\n\u001b[0;32m----> 1\u001b[0m \u001b[38;5;28;43mlen\u001b[39;49m\u001b[43m(\u001b[49m\u001b[43mff\u001b[49m\u001b[43m)\u001b[49m\n",
      "\u001b[0;31mTypeError\u001b[0m: object of type 'list_iterator' has no len()"
     ]
    }
   ],
   "source": [
    "len(ff)"
   ]
  },
  {
   "cell_type": "code",
   "execution_count": 76,
   "id": "65e96f7d-bedb-4f50-93fe-a14d73212599",
   "metadata": {},
   "outputs": [
    {
     "name": "stdout",
     "output_type": "stream",
     "text": [
      "False\n"
     ]
    }
   ],
   "source": [
    "if ff:\n",
    "    print(False)"
   ]
  },
  {
   "cell_type": "code",
   "execution_count": 78,
   "id": "35a56410-24e7-47d7-9f4f-7ec1df1ef0c2",
   "metadata": {},
   "outputs": [
    {
     "ename": "StopIteration",
     "evalue": "",
     "output_type": "error",
     "traceback": [
      "\u001b[0;31m---------------------------------------------------------------------------\u001b[0m",
      "\u001b[0;31mStopIteration\u001b[0m                             Traceback (most recent call last)",
      "Input \u001b[0;32mIn [78]\u001b[0m, in \u001b[0;36m<module>\u001b[0;34m\u001b[0m\n\u001b[0;32m----> 1\u001b[0m \u001b[38;5;28;43mnext\u001b[39;49m\u001b[43m(\u001b[49m\u001b[43mff\u001b[49m\u001b[43m)\u001b[49m\n",
      "\u001b[0;31mStopIteration\u001b[0m: "
     ]
    }
   ],
   "source": [
    "next(ff)"
   ]
  },
  {
   "cell_type": "code",
   "execution_count": 79,
   "id": "62ab094f-9864-4645-b97b-fa6293b26b58",
   "metadata": {},
   "outputs": [],
   "source": [
    "from queue import Queue, SimpleQueue"
   ]
  },
  {
   "cell_type": "code",
   "execution_count": 83,
   "id": "63cff7b2-481b-43cd-8999-e5d938ece667",
   "metadata": {},
   "outputs": [],
   "source": [
    "f = Queue([1,1,1,1])"
   ]
  },
  {
   "cell_type": "code",
   "execution_count": 88,
   "id": "bf541f20-7f9c-4fdf-adfb-fe74a48d138e",
   "metadata": {},
   "outputs": [],
   "source": [
    "MSG_queue = Queue()\n",
    "for m in MSG:\n",
    "    MSG_queue.put(m)"
   ]
  },
  {
   "cell_type": "code",
   "execution_count": 90,
   "id": "2ce74df5-164f-4c7f-b1b9-7d0b5f8c4464",
   "metadata": {},
   "outputs": [
    {
     "data": {
      "text/plain": [
       "False"
      ]
     },
     "execution_count": 90,
     "metadata": {},
     "output_type": "execute_result"
    }
   ],
   "source": [
    "MSG_queue.empty()"
   ]
  },
  {
   "cell_type": "code",
   "execution_count": 100,
   "id": "48a02e19-be88-4e7b-9674-92ad76d73b5d",
   "metadata": {},
   "outputs": [],
   "source": [
    "class NoneIter:\n",
    "    \n",
    "    def __init__(self, string):\n",
    "        self.string = string\n",
    "        self.len = len(string)\n",
    "        self.n = 0\n",
    "        self.empty = False\n",
    "        \n",
    "    def __iter__(self):\n",
    "        return self\n",
    "\n",
    "    def __next__(self):\n",
    "        if self.n <self.len:\n",
    "            self.n += 1\n",
    "            return self.string[self.n-1]\n",
    "        elif self.empty is False:\n",
    "            self.empty = True\n",
    "            return None\n",
    "        else:\n",
    "            raise StopIteration\n",
    "        \n",
    "        "
   ]
  },
  {
   "cell_type": "code",
   "execution_count": 98,
   "id": "106b26a3-d61d-43ef-81f9-77ac73aa6fc0",
   "metadata": {},
   "outputs": [],
   "source": [
    "SI = StringIter('HELLO ASSHOLE')"
   ]
  },
  {
   "cell_type": "code",
   "execution_count": 101,
   "id": "35b783ed-7f51-4af7-9737-f6c6e17ac843",
   "metadata": {},
   "outputs": [
    {
     "ename": "SyntaxError",
     "evalue": "unexpected EOF while parsing (3213781744.py, line 1)",
     "output_type": "error",
     "traceback": [
      "\u001b[0;36m  Input \u001b[0;32mIn [101]\u001b[0;36m\u001b[0m\n\u001b[0;31m    class NI(iter):\u001b[0m\n\u001b[0m                   ^\u001b[0m\n\u001b[0;31mSyntaxError\u001b[0m\u001b[0;31m:\u001b[0m unexpected EOF while parsing\n"
     ]
    }
   ],
   "source": [
    "class NI(iter):"
   ]
  },
  {
   "cell_type": "code",
   "execution_count": 17,
   "id": "c982efe9-79d3-4f0f-8247-7bc24686a9f0",
   "metadata": {},
   "outputs": [],
   "source": [
    "class NoneIter:\n",
    "    \n",
    "    def __init__(self, iterable):\n",
    "        self.iterable = iterable\n",
    "        self.iter_setup = False\n",
    "    \n",
    "    def __iter__(self):\n",
    "        yield from self.iterable\n",
    "        yield None\n",
    "        \n",
    "    def __next__(self):\n",
    "        if self.iter_setup is False:\n",
    "            self.__iter__()\n",
    "            self.iter_setup = True\n",
    "        return next(self.__iter__())"
   ]
  },
  {
   "cell_type": "code",
   "execution_count": 4,
   "id": "56bf9c1d-e237-4b03-a1c5-8f360eb85712",
   "metadata": {},
   "outputs": [],
   "source": [
    "def fun(L):\n",
    "    yield from L"
   ]
  },
  {
   "cell_type": "code",
   "execution_count": 5,
   "id": "75d5cc62-e176-458a-a7ed-2fe78f4401a4",
   "metadata": {},
   "outputs": [],
   "source": [
    "ff = fun([1,2,3,4,5,6])"
   ]
  },
  {
   "cell_type": "code",
   "execution_count": 6,
   "id": "25e16107-1193-4e64-812d-aeb6ae8b007b",
   "metadata": {},
   "outputs": [
    {
     "ename": "AttributeError",
     "evalue": "'generator' object has no attribute 'next'",
     "output_type": "error",
     "traceback": [
      "\u001b[0;31m---------------------------------------------------------------------------\u001b[0m",
      "\u001b[0;31mAttributeError\u001b[0m                            Traceback (most recent call last)",
      "Input \u001b[0;32mIn [6]\u001b[0m, in \u001b[0;36m<module>\u001b[0;34m\u001b[0m\n\u001b[0;32m----> 1\u001b[0m \u001b[43mff\u001b[49m\u001b[38;5;241;43m.\u001b[39;49m\u001b[43mnext\u001b[49m()\n",
      "\u001b[0;31mAttributeError\u001b[0m: 'generator' object has no attribute 'next'"
     ]
    }
   ],
   "source": [
    "ff.next()"
   ]
  },
  {
   "cell_type": "code",
   "execution_count": 20,
   "id": "f0a90a1d-af6e-467e-9bbf-108401706699",
   "metadata": {},
   "outputs": [],
   "source": [
    "ff = NoneIter([1,2,3,4,5,6])"
   ]
  },
  {
   "cell_type": "code",
   "execution_count": 33,
   "id": "25ca53cb-14b6-451a-884c-91c72ae8f3cc",
   "metadata": {},
   "outputs": [
    {
     "data": {
      "text/plain": [
       "6"
      ]
     },
     "execution_count": 33,
     "metadata": {},
     "output_type": "execute_result"
    }
   ],
   "source": [
    "next(ff)"
   ]
  },
  {
   "cell_type": "code",
   "execution_count": null,
   "id": "c34bb9e1-ea48-456a-a4f0-b8f747c9a5d0",
   "metadata": {},
   "outputs": [],
   "source": []
  }
 ],
 "metadata": {
  "kernelspec": {
   "display_name": "Python 3 (ipykernel)",
   "language": "python",
   "name": "python3"
  },
  "language_info": {
   "codemirror_mode": {
    "name": "ipython",
    "version": 3
   },
   "file_extension": ".py",
   "mimetype": "text/x-python",
   "name": "python",
   "nbconvert_exporter": "python",
   "pygments_lexer": "ipython3",
   "version": "3.8.10"
  }
 },
 "nbformat": 4,
 "nbformat_minor": 5
}
