{
 "cells": [
  {
   "cell_type": "code",
   "execution_count": 1,
   "id": "33a4559f-2f30-4ee5-9ed7-3a5f31645a87",
   "metadata": {
    "tags": []
   },
   "outputs": [],
   "source": [
    "import time\n",
    "import robocam.helpers.timers as timers\n",
    "import robocam.helpers.decorators as decors\n",
    "import robocam.overlay.texttools as ttools\n",
    "import robocam.overlay.colortools as ctools"
   ]
  },
  {
   "cell_type": "code",
   "execution_count": 39,
   "id": "0fa13b93-8a99-43c6-9263-1f6df8947073",
   "metadata": {},
   "outputs": [],
   "source": [
    "cursor = ttools.Cursor(.5)\n",
    "fps = timers.LastCallTimer()"
   ]
  },
  {
   "cell_type": "code",
   "execution_count": 45,
   "id": "4934f373-61e7-454f-ae6b-1d0a77be8521",
   "metadata": {
    "tags": []
   },
   "outputs": [],
   "source": [
    "@decors.make_me_blink()\n",
    "def fun():\n",
    "    return True\n",
    "\n",
    "\n",
    "@decors.make_me_blink()\n",
    "def fun2():\n",
    "    return True\n",
    "\n",
    "sleeper = timers.Sleeper(.2)\n",
    "\n",
    "\n",
    "\n",
    "\n",
    "    "
   ]
  },
  {
   "cell_type": "code",
   "execution_count": 44,
   "id": "1d65b33f-352e-49f0-bc87-bdef4653ff32",
   "metadata": {},
   "outputs": [
    {
     "data": {
      "text/plain": [
       "True"
      ]
     },
     "execution_count": 44,
     "metadata": {},
     "output_type": "execute_result"
    }
   ],
   "source": [
    "start = time.time()\n",
    "for _ in range(50):\n",
    "    time.sleep(.1)\n",
    "    print(round(time.time()-start,2), round(run))"
   ]
  },
  {
   "cell_type": "code",
   "execution_count": 2,
   "id": "a1ad4d92-5ae0-4d26-8dfb-3b9326ad7608",
   "metadata": {
    "jupyter": {
     "source_hidden": true
    },
    "tags": []
   },
   "outputs": [],
   "source": [
    "C = []\n",
    "color = ctools.UpDownCounter()\n",
    "for _ in range(500):\n",
    "    C.append(color())"
   ]
  },
  {
   "cell_type": "code",
   "execution_count": 46,
   "id": "88ab979d-c3b7-40c5-9452-ea22e8ecc61e",
   "metadata": {},
   "outputs": [
    {
     "data": {
      "text/plain": [
       "0.5"
      ]
     },
     "execution_count": 46,
     "metadata": {},
     "output_type": "execute_result"
    }
   ],
   "source": [
    "fun.on_time"
   ]
  },
  {
   "cell_type": "code",
   "execution_count": 10,
   "id": "2085b579-5be3-444b-8293-39dd9abdad71",
   "metadata": {},
   "outputs": [],
   "source": [
    "QQ = queue.Queue()"
   ]
  },
  {
   "cell_type": "code",
   "execution_count": 15,
   "id": "bdd7e386-15ea-4b3a-8d92-a64d97fa072b",
   "metadata": {},
   "outputs": [
    {
     "data": {
      "text/plain": [
       "True"
      ]
     },
     "execution_count": 15,
     "metadata": {},
     "output_type": "execute_result"
    }
   ],
   "source": [
    "QQ.empty()"
   ]
  },
  {
   "cell_type": "code",
   "execution_count": 22,
   "id": "8cc9f4a5-05e0-47a3-ac6e-3853ddd05766",
   "metadata": {},
   "outputs": [],
   "source": [
    "QQ.put(1)"
   ]
  },
  {
   "cell_type": "code",
   "execution_count": 27,
   "id": "e47b19ba-2590-4a4b-bc4a-13d88dbdf2a6",
   "metadata": {},
   "outputs": [],
   "source": [
    "ll = [1,2,2,2,22,2,3]"
   ]
  },
  {
   "cell_type": "code",
   "execution_count": 28,
   "id": "61486162-82c3-4643-b3d9-4056385e422b",
   "metadata": {},
   "outputs": [
    {
     "data": {
      "text/plain": [
       "[1, 2, 2, 2, 22, 2, 3]"
      ]
     },
     "execution_count": 28,
     "metadata": {},
     "output_type": "execute_result"
    }
   ],
   "source": [
    "ll"
   ]
  },
  {
   "cell_type": "code",
   "execution_count": 30,
   "id": "fa991a0b-3a50-414d-9c39-254d5cf845d9",
   "metadata": {},
   "outputs": [],
   "source": [
    "def fun(x):\n",
    "    yield from x"
   ]
  },
  {
   "cell_type": "code",
   "execution_count": 31,
   "id": "9cb36d41-440d-4629-9386-90235b6f2dc0",
   "metadata": {},
   "outputs": [],
   "source": [
    "ff = fun(ll)"
   ]
  },
  {
   "cell_type": "code",
   "execution_count": 32,
   "id": "69de182e-7a7f-4d04-8ec2-1d1e0028cb3a",
   "metadata": {},
   "outputs": [
    {
     "ename": "TypeError",
     "evalue": "object of type 'generator' has no len()",
     "output_type": "error",
     "traceback": [
      "\u001b[0;31m---------------------------------------------------------------------------\u001b[0m",
      "\u001b[0;31mTypeError\u001b[0m                                 Traceback (most recent call last)",
      "Input \u001b[0;32mIn [32]\u001b[0m, in \u001b[0;36m<module>\u001b[0;34m\u001b[0m\n\u001b[0;32m----> 1\u001b[0m \u001b[38;5;28;43mlen\u001b[39;49m\u001b[43m(\u001b[49m\u001b[43mff\u001b[49m\u001b[43m)\u001b[49m\n",
      "\u001b[0;31mTypeError\u001b[0m: object of type 'generator' has no len()"
     ]
    }
   ],
   "source": [
    "ff."
   ]
  },
  {
   "cell_type": "code",
   "execution_count": 37,
   "id": "f12eebfc-d4f9-48fa-b926-09418864b37f",
   "metadata": {},
   "outputs": [],
   "source": [
    "ii = iter(ll)"
   ]
  },
  {
   "cell_type": "code",
   "execution_count": 34,
   "id": "3193468f-ab38-4516-9a52-3b081a3503ef",
   "metadata": {},
   "outputs": [
    {
     "data": {
      "text/plain": [
       "str"
      ]
     },
     "execution_count": 34,
     "metadata": {},
     "output_type": "execute_result"
    }
   ],
   "source": [
    "type(\"8=====> ~~~~~~~~~~~~~~~~~~~~~~~~\")"
   ]
  },
  {
   "cell_type": "code",
   "execution_count": 35,
   "id": "d264096f-579f-4937-ae08-3a21467fa07a",
   "metadata": {},
   "outputs": [
    {
     "data": {
      "text/plain": [
       "True"
      ]
     },
     "execution_count": 35,
     "metadata": {},
     "output_type": "execute_result"
    }
   ],
   "source": [
    "isinstance(1, object)"
   ]
  },
  {
   "cell_type": "code",
   "execution_count": 38,
   "id": "366aaba0-6de2-40f8-8a12-29751f699fe1",
   "metadata": {},
   "outputs": [
    {
     "data": {
      "text/plain": [
       "True"
      ]
     },
     "execution_count": 38,
     "metadata": {},
     "output_type": "execute_result"
    }
   ],
   "source": [
    "hasattr(ii, '__next__')"
   ]
  },
  {
   "cell_type": "code",
   "execution_count": null,
   "id": "de2d8cc7-4f1b-45f3-a276-f42c7b85f645",
   "metadata": {},
   "outputs": [],
   "source": []
  }
 ],
 "metadata": {
  "kernelspec": {
   "display_name": "Python 3 (ipykernel)",
   "language": "python",
   "name": "python3"
  },
  "language_info": {
   "codemirror_mode": {
    "name": "ipython",
    "version": 3
   },
   "file_extension": ".py",
   "mimetype": "text/x-python",
   "name": "python",
   "nbconvert_exporter": "python",
   "pygments_lexer": "ipython3",
   "version": "3.8.10"
  }
 },
 "nbformat": 4,
 "nbformat_minor": 5
}
