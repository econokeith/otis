{
 "cells": [
  {
   "cell_type": "code",
   "execution_count": 3,
   "id": "33a4559f-2f30-4ee5-9ed7-3a5f31645a87",
   "metadata": {
    "tags": []
   },
   "outputs": [
    {
     "name": "stderr",
     "output_type": "stream",
     "text": [
      "usage: ipykernel_launcher.py [-h] [-d DIM] [-m MAX_FPS] [-c CAM] [-s SCRIPT]\n",
      "ipykernel_launcher.py: error: unrecognized arguments: -f /home/keith/.local/share/jupyter/runtime/kernel-b6289a5d-8244-4984-b605-f8238f28ad57.json\n"
     ]
    },
    {
     "ename": "SystemExit",
     "evalue": "2",
     "output_type": "error",
     "traceback": [
      "An exception has occurred, use %tb to see the full traceback.\n",
      "\u001b[0;31mSystemExit\u001b[0m\u001b[0;31m:\u001b[0m 2\n"
     ]
    },
    {
     "name": "stderr",
     "output_type": "stream",
     "text": [
      "/home/keith/.local/lib/python3.8/site-packages/IPython/core/interactiveshell.py:3259: UserWarning: To exit: use 'exit', 'quit', or Ctrl-D.\n",
      "  warn(\"To exit: use 'exit', 'quit', or Ctrl-D.\", stacklevel=1)\n"
     ]
    }
   ],
   "source": [
    "import time\n",
    "import robocam.helpers.timers as timers\n",
    "import robocam.helpers.decorators as decors\n",
    "import robocam.overlay.textwriters as ttools\n",
    "import robocam.overlay.colortools as ctools"
   ]
  },
  {
   "cell_type": "code",
   "execution_count": 55,
   "id": "51739939-a260-441c-a5c2-9de29e8dfcc1",
   "metadata": {},
   "outputs": [],
   "source": [
    "import ctypes\n",
    "import numpy as np"
   ]
  },
  {
   "cell_type": "code",
   "execution_count": 57,
   "id": "23302d74-ad71-47b9-bc54-3798d9f7fa02",
   "metadata": {},
   "outputs": [],
   "source": [
    "f = np.dtype(ctypes.c_double)"
   ]
  },
  {
   "cell_type": "code",
   "execution_count": 58,
   "id": "9fb8f6cc-9874-46de-a5ea-7a8067911894",
   "metadata": {},
   "outputs": [
    {
     "data": {
      "text/plain": [
       "'float64'"
      ]
     },
     "execution_count": 58,
     "metadata": {},
     "output_type": "execute_result"
    }
   ],
   "source": [
    "f.name"
   ]
  },
  {
   "cell_type": "code",
   "execution_count": 39,
   "id": "0fa13b93-8a99-43c6-9263-1f6df8947073",
   "metadata": {},
   "outputs": [],
   "source": [
    "cursor = ttools.Cursor(.5)\n",
    "fps = timers.LastCallTimer()"
   ]
  },
  {
   "cell_type": "code",
   "execution_count": 45,
   "id": "4934f373-61e7-454f-ae6b-1d0a77be8521",
   "metadata": {
    "tags": []
   },
   "outputs": [],
   "source": [
    "@decors.make_me_blink()\n",
    "def fun():\n",
    "    return True\n",
    "\n",
    "\n",
    "@decors.make_me_blink()\n",
    "def fun2():\n",
    "    return True\n",
    "\n",
    "sleeper = timers.Sleeper(.2)\n",
    "\n",
    "\n",
    "\n",
    "\n",
    "    "
   ]
  },
  {
   "cell_type": "code",
   "execution_count": 50,
   "id": "1d65b33f-352e-49f0-bc87-bdef4653ff32",
   "metadata": {},
   "outputs": [
    {
     "name": "stdout",
     "output_type": "stream",
     "text": [
      "0.1 0\n",
      "0.2 1\n",
      "0.3 1\n",
      "0.4 0\n",
      "0.5 0\n",
      "0.6 1\n",
      "0.7 1\n",
      "0.8 0\n",
      "0.91 0\n",
      "1.01 1\n",
      "1.11 1\n",
      "1.21 0\n",
      "1.31 0\n",
      "1.41 1\n",
      "1.51 1\n",
      "1.61 0\n",
      "1.71 0\n",
      "1.81 1\n",
      "1.92 1\n",
      "2.02 0\n",
      "2.12 0\n",
      "2.22 1\n",
      "2.32 1\n",
      "2.42 0\n",
      "2.52 0\n",
      "2.62 1\n",
      "2.72 1\n",
      "2.82 0\n",
      "2.92 0\n",
      "3.03 1\n",
      "3.13 1\n",
      "3.23 0\n",
      "3.33 0\n",
      "3.43 1\n",
      "3.53 1\n",
      "3.63 0\n",
      "3.73 0\n",
      "3.83 1\n",
      "3.93 1\n",
      "4.03 0\n",
      "4.14 0\n",
      "4.24 1\n",
      "4.34 1\n",
      "4.44 0\n",
      "4.54 0\n",
      "4.64 1\n",
      "4.74 1\n",
      "4.84 0\n",
      "4.94 0\n",
      "5.04 1\n"
     ]
    }
   ],
   "source": [
    "fun.on_time = .2\n",
    "fun.off_time = .2\n",
    "start = time.time()\n",
    "for _ in range(50):\n",
    "    time.sleep(.1)\n",
    "    xx = '0' if fun() else '1'\n",
    "    print(round(time.time()-start,2), xx)"
   ]
  },
  {
   "cell_type": "code",
   "execution_count": 2,
   "id": "a1ad4d92-5ae0-4d26-8dfb-3b9326ad7608",
   "metadata": {
    "jupyter": {
     "source_hidden": true
    },
    "tags": []
   },
   "outputs": [],
   "source": [
    "C = []\n",
    "color = ctools.UpDownCounter()\n",
    "for _ in range(500):\n",
    "    C.append(color())"
   ]
  },
  {
   "cell_type": "code",
   "execution_count": 47,
   "id": "88ab979d-c3b7-40c5-9452-ea22e8ecc61e",
   "metadata": {},
   "outputs": [
    {
     "data": {
      "text/plain": [
       "0.5"
      ]
     },
     "execution_count": 47,
     "metadata": {},
     "output_type": "execute_result"
    }
   ],
   "source": [
    "fun.on_time"
   ]
  },
  {
   "cell_type": "code",
   "execution_count": 48,
   "id": "2085b579-5be3-444b-8293-39dd9abdad71",
   "metadata": {},
   "outputs": [],
   "source": [
    "QQ = queue.Queue()"
   ]
  },
  {
   "cell_type": "code",
   "execution_count": 49,
   "id": "bdd7e386-15ea-4b3a-8d92-a64d97fa072b",
   "metadata": {},
   "outputs": [
    {
     "data": {
      "text/plain": [
       "True"
      ]
     },
     "execution_count": 49,
     "metadata": {},
     "output_type": "execute_result"
    }
   ],
   "source": [
    "QQ.empty()"
   ]
  },
  {
   "cell_type": "code",
   "execution_count": 22,
   "id": "8cc9f4a5-05e0-47a3-ac6e-3853ddd05766",
   "metadata": {},
   "outputs": [],
   "source": [
    "QQ.put(1)"
   ]
  },
  {
   "cell_type": "code",
   "execution_count": 27,
   "id": "e47b19ba-2590-4a4b-bc4a-13d88dbdf2a6",
   "metadata": {},
   "outputs": [],
   "source": [
    "ll = [1,2,2,2,22,2,3]"
   ]
  },
  {
   "cell_type": "code",
   "execution_count": 28,
   "id": "61486162-82c3-4643-b3d9-4056385e422b",
   "metadata": {},
   "outputs": [
    {
     "data": {
      "text/plain": [
       "[1, 2, 2, 2, 22, 2, 3]"
      ]
     },
     "execution_count": 28,
     "metadata": {},
     "output_type": "execute_result"
    }
   ],
   "source": [
    "ll"
   ]
  },
  {
   "cell_type": "code",
   "execution_count": 30,
   "id": "fa991a0b-3a50-414d-9c39-254d5cf845d9",
   "metadata": {},
   "outputs": [],
   "source": [
    "def fun(x):\n",
    "    yield from x"
   ]
  },
  {
   "cell_type": "code",
   "execution_count": 31,
   "id": "9cb36d41-440d-4629-9386-90235b6f2dc0",
   "metadata": {},
   "outputs": [],
   "source": [
    "ff = fun(ll)"
   ]
  },
  {
   "cell_type": "code",
   "execution_count": 32,
   "id": "69de182e-7a7f-4d04-8ec2-1d1e0028cb3a",
   "metadata": {},
   "outputs": [
    {
     "ename": "TypeError",
     "evalue": "object of type 'generator' has no len()",
     "output_type": "error",
     "traceback": [
      "\u001b[0;31m---------------------------------------------------------------------------\u001b[0m",
      "\u001b[0;31mTypeError\u001b[0m                                 Traceback (most recent call last)",
      "Input \u001b[0;32mIn [32]\u001b[0m, in \u001b[0;36m<module>\u001b[0;34m\u001b[0m\n\u001b[0;32m----> 1\u001b[0m \u001b[38;5;28;43mlen\u001b[39;49m\u001b[43m(\u001b[49m\u001b[43mff\u001b[49m\u001b[43m)\u001b[49m\n",
      "\u001b[0;31mTypeError\u001b[0m: object of type 'generator' has no len()"
     ]
    }
   ],
   "source": [
    "ff."
   ]
  },
  {
   "cell_type": "code",
   "execution_count": 37,
   "id": "f12eebfc-d4f9-48fa-b926-09418864b37f",
   "metadata": {},
   "outputs": [],
   "source": [
    "ii = iter(ll)"
   ]
  },
  {
   "cell_type": "code",
   "execution_count": 34,
   "id": "3193468f-ab38-4516-9a52-3b081a3503ef",
   "metadata": {},
   "outputs": [
    {
     "data": {
      "text/plain": [
       "str"
      ]
     },
     "execution_count": 34,
     "metadata": {},
     "output_type": "execute_result"
    }
   ],
   "source": [
    "type(\"8=====> ~~~~~~~~~~~~~~~~~~~~~~~~\")"
   ]
  },
  {
   "cell_type": "code",
   "execution_count": 35,
   "id": "d264096f-579f-4937-ae08-3a21467fa07a",
   "metadata": {},
   "outputs": [
    {
     "data": {
      "text/plain": [
       "True"
      ]
     },
     "execution_count": 35,
     "metadata": {},
     "output_type": "execute_result"
    }
   ],
   "source": [
    "isinstance(1, object)"
   ]
  },
  {
   "cell_type": "code",
   "execution_count": 38,
   "id": "366aaba0-6de2-40f8-8a12-29751f699fe1",
   "metadata": {},
   "outputs": [
    {
     "data": {
      "text/plain": [
       "True"
      ]
     },
     "execution_count": 38,
     "metadata": {},
     "output_type": "execute_result"
    }
   ],
   "source": [
    "hasattr(ii, '__next__')"
   ]
  },
  {
   "cell_type": "code",
   "execution_count": null,
   "id": "de2d8cc7-4f1b-45f3-a276-f42c7b85f645",
   "metadata": {},
   "outputs": [],
   "source": []
  }
 ],
 "metadata": {
  "kernelspec": {
   "display_name": "Python 3 (ipykernel)",
   "language": "python",
   "name": "python3"
  },
  "language_info": {
   "codemirror_mode": {
    "name": "ipython",
    "version": 3
   },
   "file_extension": ".py",
   "mimetype": "text/x-python",
   "name": "python",
   "nbconvert_exporter": "python",
   "pygments_lexer": "ipython3",
   "version": "3.8.10"
  }
 },
 "nbformat": 4,
 "nbformat_minor": 5
}
